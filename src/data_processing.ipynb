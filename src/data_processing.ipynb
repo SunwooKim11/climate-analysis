{
 "cells": [
  {
   "cell_type": "code",
   "execution_count": 1,
   "metadata": {},
   "outputs": [],
   "source": [
    "import pandas as pd\n",
    "import matplotlib.pyplot as plt\n",
    "from matplotlib import rc\n",
    "import seaborn as sns\n",
    "import os\n"
   ]
  },
  {
   "cell_type": "code",
   "execution_count": 17,
   "metadata": {},
   "outputs": [],
   "source": [
    "\n",
    "# Load the uploaded files\n",
    "files = {\n",
    "    \"USA_North_Dakota\": 'C:\\kmu\\CBA\\output\\\\USA_Bismark_Climate.csv',\n",
    "    \"Canada_Saskatchewan\": 'C:\\kmu\\CBA\\output\\Canada_BRATT_Lake_Climate.csv',\n",
    "    \"Australia_Geraldton\": 'C:\\kmu\\CBA\\output\\Australia_Geraldton_Airport.csv'\n",
    "}\n",
    "MAX_TEMP_NAME = '월평균 일최고기온 (°C)'\n",
    "MIN_TEMP_NAME = '월평균 일최저기온 (°C)'\n",
    "TIME_NAME = '시각 (YYYY-MM-DD)'\n",
    "# Process each file\n",
    "\n",
    "processed_data = {}"
   ]
  },
  {
   "cell_type": "code",
   "execution_count": 18,
   "metadata": {},
   "outputs": [
    {
     "name": "stderr",
     "output_type": "stream",
     "text": [
      "C:\\Users\\seonu\\AppData\\Local\\Temp\\ipykernel_17668\\2783048957.py:7: FutureWarning: DataFrame.fillna with 'method' is deprecated and will raise in a future version. Use obj.ffill() or obj.bfill() instead.\n",
      "  data.fillna(method='ffill', inplace=True)\n",
      "C:\\Users\\seonu\\AppData\\Local\\Temp\\ipykernel_17668\\2783048957.py:7: FutureWarning: DataFrame.fillna with 'method' is deprecated and will raise in a future version. Use obj.ffill() or obj.bfill() instead.\n",
      "  data.fillna(method='ffill', inplace=True)\n",
      "C:\\Users\\seonu\\AppData\\Local\\Temp\\ipykernel_17668\\2783048957.py:7: FutureWarning: DataFrame.fillna with 'method' is deprecated and will raise in a future version. Use obj.ffill() or obj.bfill() instead.\n",
      "  data.fillna(method='ffill', inplace=True)\n"
     ]
    }
   ],
   "source": [
    "\n",
    "for region, file_path in files.items():\n",
    "    # Load the file\n",
    "    data = pd.read_csv(file_path, encoding='utf-8')\n",
    "    \n",
    "    # Replace outliers (-99.9) with the previous month's value\n",
    "    data.replace(-99.9, pd.NA, inplace=True)\n",
    "    data.fillna(method='ffill', inplace=True)\n",
    "    \n",
    "    # Fill remaining null values with 0\n",
    "    data.fillna(0, inplace=True)\n",
    "    \n",
    "    # Switch max and min temperature if max is negative or min is positive\n",
    "    if MAX_TEMP_NAME in data.columns and MIN_TEMP_NAME in data.columns:\n",
    "        max_temp = data[MAX_TEMP_NAME]\n",
    "        min_temp = data[MIN_TEMP_NAME]\n",
    "        data[MAX_TEMP_NAME] = max_temp.where(max_temp > min_temp, min_temp)\n",
    "        data[MIN_TEMP_NAME] = min_temp.where(max_temp > min_temp, max_temp)\n",
    "    \n",
    "    # Convert time format to yyyy-mm\n",
    "    if TIME_NAME in data.columns:\n",
    "        data[TIME_NAME] = pd.to_datetime(data[TIME_NAME]).dt.strftime('%Y-%m')\n",
    "    \n",
    "    processed_data[region] = data"
   ]
  },
  {
   "cell_type": "code",
   "execution_count": 19,
   "metadata": {},
   "outputs": [
    {
     "data": {
      "text/html": [
       "<div>\n",
       "<style scoped>\n",
       "    .dataframe tbody tr th:only-of-type {\n",
       "        vertical-align: middle;\n",
       "    }\n",
       "\n",
       "    .dataframe tbody tr th {\n",
       "        vertical-align: top;\n",
       "    }\n",
       "\n",
       "    .dataframe thead th {\n",
       "        text-align: right;\n",
       "    }\n",
       "</style>\n",
       "<table border=\"1\" class=\"dataframe\">\n",
       "  <thead>\n",
       "    <tr style=\"text-align: right;\">\n",
       "      <th></th>\n",
       "      <th>지점명</th>\n",
       "      <th>시각 (YYYY-MM-DD)</th>\n",
       "      <th>월평균 일최고기온 (°C)</th>\n",
       "      <th>월평균 일최저기온 (°C)</th>\n",
       "      <th>월 총 강수량 (mm)</th>\n",
       "    </tr>\n",
       "  </thead>\n",
       "  <tbody>\n",
       "    <tr>\n",
       "      <th>0</th>\n",
       "      <td>Bismark</td>\n",
       "      <td>2010-01</td>\n",
       "      <td>-5.0</td>\n",
       "      <td>-16.7</td>\n",
       "      <td>10.9</td>\n",
       "    </tr>\n",
       "    <tr>\n",
       "      <th>1</th>\n",
       "      <td>Bismark</td>\n",
       "      <td>2010-02</td>\n",
       "      <td>-2.2</td>\n",
       "      <td>-13.3</td>\n",
       "      <td>13.0</td>\n",
       "    </tr>\n",
       "    <tr>\n",
       "      <th>2</th>\n",
       "      <td>Bismark</td>\n",
       "      <td>2010-03</td>\n",
       "      <td>-4.8</td>\n",
       "      <td>-16.6</td>\n",
       "      <td>10.9</td>\n",
       "    </tr>\n",
       "    <tr>\n",
       "      <th>3</th>\n",
       "      <td>Bismark</td>\n",
       "      <td>2010-04</td>\n",
       "      <td>13.9</td>\n",
       "      <td>-0.6</td>\n",
       "      <td>32.0</td>\n",
       "    </tr>\n",
       "    <tr>\n",
       "      <th>4</th>\n",
       "      <td>Bismark</td>\n",
       "      <td>2010-05</td>\n",
       "      <td>20.0</td>\n",
       "      <td>6.1</td>\n",
       "      <td>61.0</td>\n",
       "    </tr>\n",
       "  </tbody>\n",
       "</table>\n",
       "</div>"
      ],
      "text/plain": [
       "       지점명 시각 (YYYY-MM-DD)  월평균 일최고기온 (°C)  월평균 일최저기온 (°C)  월 총 강수량 (mm)\n",
       "0  Bismark         2010-01            -5.0           -16.7          10.9\n",
       "1  Bismark         2010-02            -2.2           -13.3          13.0\n",
       "2  Bismark         2010-03            -4.8           -16.6          10.9\n",
       "3  Bismark         2010-04            13.9            -0.6          32.0\n",
       "4  Bismark         2010-05            20.0             6.1          61.0"
      ]
     },
     "execution_count": 19,
     "metadata": {},
     "output_type": "execute_result"
    }
   ],
   "source": [
    "\n",
    "# Display a sample of the processed data for one region\n",
    "processed_data['USA_North_Dakota'].head()\n"
   ]
  },
  {
   "cell_type": "code",
   "execution_count": 20,
   "metadata": {},
   "outputs": [
    {
     "name": "stdout",
     "output_type": "stream",
     "text": [
      "Saved processed data for USA_North_Dakota to C:/kmu/CBA/output/USA_North_Dakota_processed.csv\n",
      "Saved processed data for Canada_Saskatchewan to C:/kmu/CBA/output/Canada_Saskatchewan_processed.csv\n",
      "Saved processed data for Australia_Geraldton to C:/kmu/CBA/output/Australia_Geraldton_processed.csv\n"
     ]
    }
   ],
   "source": [
    "import os\n",
    "\n",
    "# 저장 경로 설정 (로컬 환경의 원하는 디렉토리로 변경)\n",
    "output_folder = \"C:/kmu/CBA/output/\"\n",
    "os.makedirs(output_folder, exist_ok=True)  # 폴더가 없으면 생성\n",
    "\n",
    "# 각 지역 데이터를 CSV로 저장\n",
    "for region, data in processed_data.items():\n",
    "    # 파일명 생성 (지역 이름을 포함)\n",
    "    output_file = os.path.join(output_folder, f\"{region}_processed.csv\")\n",
    "    # CSV로 저장\n",
    "    data.to_csv(output_file, index=False, encoding='utf-8-sig')\n",
    "    print(f\"Saved processed data for {region} to {output_file}\")\n"
   ]
  },
  {
   "cell_type": "code",
   "execution_count": 21,
   "metadata": {},
   "outputs": [
    {
     "data": {
      "text/plain": [
       "Text(0.5, 1.0, '데이터 취업 스쿨')"
      ]
     },
     "execution_count": 21,
     "metadata": {},
     "output_type": "execute_result"
    },
    {
     "data": {
      "image/png": "[encoded data removed]",
      "text/plain": [
       "<Figure size 640x480 with 1 Axes>"
      ]
     },
     "metadata": {},
     "output_type": "display_data"
    }
   ],
   "source": [
    "rc('font', family='Malgun Gothic')\t\n",
    "plt.rcParams['axes.unicode_minus'] = False\n",
    "\n",
    "%matplotlib inline\n",
    "plt.title('데이터 취업 스쿨')"
   ]
  },
  {
   "cell_type": "code",
   "execution_count": 22,
   "metadata": {},
   "outputs": [
    {
     "data": {
      "text/html": [
       "<div>\n",
       "<style scoped>\n",
       "    .dataframe tbody tr th:only-of-type {\n",
       "        vertical-align: middle;\n",
       "    }\n",
       "\n",
       "    .dataframe tbody tr th {\n",
       "        vertical-align: top;\n",
       "    }\n",
       "\n",
       "    .dataframe thead th {\n",
       "        text-align: right;\n",
       "    }\n",
       "</style>\n",
       "<table border=\"1\" class=\"dataframe\">\n",
       "  <thead>\n",
       "    <tr style=\"text-align: right;\">\n",
       "      <th></th>\n",
       "      <th>지점명</th>\n",
       "      <th>시각 (YYYY-MM-DD)</th>\n",
       "      <th>월평균 일최고기온 (°C)</th>\n",
       "      <th>월평균 일최저기온 (°C)</th>\n",
       "      <th>월 총 강수량 (mm)</th>\n",
       "    </tr>\n",
       "  </thead>\n",
       "  <tbody>\n",
       "    <tr>\n",
       "      <th>0</th>\n",
       "      <td>Bismark</td>\n",
       "      <td>2010-01-01</td>\n",
       "      <td>-5.0</td>\n",
       "      <td>-16.7</td>\n",
       "      <td>10.9</td>\n",
       "    </tr>\n",
       "    <tr>\n",
       "      <th>1</th>\n",
       "      <td>Bismark</td>\n",
       "      <td>2010-02-01</td>\n",
       "      <td>-2.2</td>\n",
       "      <td>-13.3</td>\n",
       "      <td>13.0</td>\n",
       "    </tr>\n",
       "    <tr>\n",
       "      <th>2</th>\n",
       "      <td>Bismark</td>\n",
       "      <td>2010-03-01</td>\n",
       "      <td>-4.8</td>\n",
       "      <td>-16.6</td>\n",
       "      <td>10.9</td>\n",
       "    </tr>\n",
       "    <tr>\n",
       "      <th>3</th>\n",
       "      <td>Bismark</td>\n",
       "      <td>2010-04-01</td>\n",
       "      <td>13.9</td>\n",
       "      <td>-0.6</td>\n",
       "      <td>32.0</td>\n",
       "    </tr>\n",
       "    <tr>\n",
       "      <th>4</th>\n",
       "      <td>Bismark</td>\n",
       "      <td>2010-05-01</td>\n",
       "      <td>20.0</td>\n",
       "      <td>6.1</td>\n",
       "      <td>61.0</td>\n",
       "    </tr>\n",
       "  </tbody>\n",
       "</table>\n",
       "</div>"
      ],
      "text/plain": [
       "       지점명 시각 (YYYY-MM-DD)  월평균 일최고기온 (°C)  월평균 일최저기온 (°C)  월 총 강수량 (mm)\n",
       "0  Bismark      2010-01-01            -5.0           -16.7          10.9\n",
       "1  Bismark      2010-02-01            -2.2           -13.3          13.0\n",
       "2  Bismark      2010-03-01            -4.8           -16.6          10.9\n",
       "3  Bismark      2010-04-01            13.9            -0.6          32.0\n",
       "4  Bismark      2010-05-01            20.0             6.1          61.0"
      ]
     },
     "execution_count": 22,
     "metadata": {},
     "output_type": "execute_result"
    }
   ],
   "source": [
    "# year_month 형식을을 timestamp로 변환\n",
    "for region, data in processed_data.items():\n",
    "    data[TIME_NAME] = pd.to_datetime(data[TIME_NAME])\n",
    "processed_data['USA_North_Dakota'].head()"
   ]
  },
  {
   "cell_type": "code",
   "execution_count": 26,
   "metadata": {},
   "outputs": [],
   "source": [
    "\n",
    "# 시각화\n",
    "# 한국 기상청 데이터\n",
    "# columns_to_plot = [\n",
    "#     \"월평균 기온 (°C)\",\n",
    "#     \"월평균 일최고기온 (°C)\",\n",
    "#     \"월평균 일최저기온 (°C)\",\n",
    "#     \"최대 일강수량 (mm)\",\n",
    "#     \"일평균 기온의 월표준편차\"\n",
    "# ]\n",
    "\n",
    "# 각 나라별 기상청 데이터\n",
    "columns_to_plot = [\n",
    "    \"월평균 일최고기온 (°C)\",\n",
    "    \"월평균 일최저기온 (°C)\",\n",
    "    \"월 총 강수량 (mm)\"\n",
    "]\n",
    "\n",
    "# 지역별 색상 지정\n",
    "colors = {\n",
    "    \"USA_North_Dakota\": \"red\",\n",
    "    \"Canada_Saskatchewan\": \"blue\",\n",
    "    \"Australia_Geraldton\": \"green\"\n",
    "}"
   ]
  },
  {
   "cell_type": "code",
   "execution_count": 27,
   "metadata": {},
   "outputs": [],
   "source": [
    "# matplotlib로 그래프 그리기\n",
    "\n",
    "# # 각 컬럼별 그래프 생성\n",
    "# for column in columns_to_plot:\n",
    "#     plt.figure(figsize=(10, 6))\n",
    "#     for region, data in processed_data.items():\n",
    "#         plt.plot(\n",
    "#             data[TIME_NAME],\n",
    "#             data[column],\n",
    "#             label=data[\"지점명\"].iloc[0],  # 지점명을 범례로 사용\n",
    "#             color=colors[region]\n",
    "#         )\n",
    "    \n",
    "#     plt.title(f\"Time Series of {column}\")\n",
    "#     plt.xlabel(\"Time (yyyy-mm)\")\n",
    "#     plt.ylabel(column)\n",
    "#     plt.xticks(rotation=90)\n",
    "#     plt.legend()\n",
    "#     plt.grid(True)\n",
    "#     plt.tight_layout()\n",
    "#     plt.show()"
   ]
  },
  {
   "cell_type": "code",
   "execution_count": 28,
   "metadata": {},
   "outputs": [
    {
     "name": "stdout",
     "output_type": "stream",
     "text": [
      "Saved plot for 월평균 일최고기온 (°C) to C:/kmu/CBA/plots/월평균_일최고기온_°C.png\n",
      "Saved plot for 월평균 일최저기온 (°C) to C:/kmu/CBA/plots/월평균_일최저기온_°C.png\n",
      "Saved plot for 월 총 강수량 (mm) to C:/kmu/CBA/plots/월_총_강수량_mm.png\n"
     ]
    }
   ],
   "source": [
    "\n",
    "# 저장 경로 설정 (로컬 환경의 원하는 디렉토리로 변경)\n",
    "output_folder = \"C:/kmu/CBA/plots/\"\n",
    "os.makedirs(output_folder, exist_ok=True)  # 폴더가 없으면 생성\n",
    "\n",
    "# Seaborn으로 그래프 그리기 및 저장\n",
    "for column in columns_to_plot:\n",
    "    plt.figure(figsize=(10, 6))\n",
    "    for region, data in processed_data.items():\n",
    "        sns.lineplot(\n",
    "            data=data,\n",
    "            x=TIME_NAME,\n",
    "            y=column,\n",
    "            label=data[\"지점명\"].iloc[0],  # 지점명을 범례로 사용\n",
    "            color=colors[region],\n",
    "            marker=\".\"\n",
    "        )\n",
    "    plt.title(f\"Time Series of {column}\")\n",
    "    plt.xlabel(\"시각 (MM-YY)\")\n",
    "    plt.ylabel(column)\n",
    "    plt.xticks(rotation=0)\n",
    "    plt.legend()\n",
    "    # plt.grid(True)\n",
    "    plt.tight_layout()\n",
    "    \n",
    "    # 파일 경로 설정 및 저장\n",
    "    output_file = os.path.join(output_folder, f\"{column.replace(' ', '_').replace('(', '').replace(')', '')}.png\")\n",
    "    plt.savefig(output_file, dpi=300)\n",
    "    print(f\"Saved plot for {column} to {output_file}\")\n",
    "    plt.close()  # 그래프 닫기\n"
   ]
  },
  {
   "cell_type": "code",
   "execution_count": null,
   "metadata": {},
   "outputs": [],
   "source": []
  }
 ],
 "metadata": {
  "kernelspec": {
   "display_name": "climate",
   "language": "python",
   "name": "python3"
  },
  "language_info": {
   "codemirror_mode": {
    "name": "ipython",
    "version": 3
   },
   "file_extension": ".py",
   "mimetype": "text/x-python",
   "name": "python",
   "nbconvert_exporter": "python",
   "pygments_lexer": "ipython3",
   "version": "3.11.7"
  }
 },
 "nbformat": 4,
 "nbformat_minor": 2
}
